{
 "cells": [
  {
   "cell_type": "code",
   "execution_count": null,
   "id": "d288f2d3",
   "metadata": {},
   "outputs": [],
   "source": [
    "import tensorflow as tf\n",
    "from tensorflow import keras\n",
    "from tensorflow.keras.models import Sequential, Model\n",
    "from tensorflow.keras.layers import Dense, Convolution2D, Activation, Flatten, MaxPooling2D,Input,Dropout,GlobalAveragePooling2D\n",
    "from tensorflow.keras.layers import BatchNormalization\n",
    "from tensorflow.python.framework import ops\n",
    "from binarization_utils import *"
   ]
  },
  {
   "cell_type": "code",
   "execution_count": null,
   "id": "18eb2a88",
   "metadata": {},
   "outputs": [],
   "source": [
    "(x_train, y_train),(x_test, y_test) = tf.keras.datasets.mnist.load_data()  \n",
    "\n",
    "x_train = x_train/255.0  \n",
    "x_test = x_test/255.0  "
   ]
  },
  {
   "cell_type": "code",
   "execution_count": null,
   "id": "184801e1",
   "metadata": {},
   "outputs": [],
   "source": [
    "import os\n",
    "# os.environ['TF_XLA_FLAGS'] = '--tf_xla_enable_xla_devices'\n",
    "\n",
    "os.environ[\"CUDA_VISIBLE_DEVICES\"] = \"-1\""
   ]
  },
  {
   "cell_type": "code",
   "execution_count": null,
   "id": "4e93cc83",
   "metadata": {},
   "outputs": [],
   "source": [
    "# x_train = x_train.reshape(x_train.shape[0], 28, 28, 1)\n",
    "# x_test = x_test.reshape(x_test.shape[0], 28, 28, 1)\n",
    "\n",
    "x_train = x_train.reshape(-1, 28 * 28)\n",
    "x_test = x_test.reshape(-1, 28 * 28)"
   ]
  },
  {
   "cell_type": "code",
   "execution_count": null,
   "id": "1017cdf7",
   "metadata": {
    "lines_to_next_cell": 0
   },
   "outputs": [],
   "source": [
    "import matplotlib.pyplot as plt\n",
    "\n",
    "plt.imshow(x_train[0].reshape(28,28), cmap=\"gray\")"
   ]
  },
  {
   "cell_type": "code",
   "execution_count": null,
   "id": "4914a6bb",
   "metadata": {
    "lines_to_next_cell": 2
   },
   "outputs": [],
   "source": []
  },
  {
   "cell_type": "code",
   "execution_count": null,
   "id": "a1d5b7b3",
   "metadata": {},
   "outputs": [],
   "source": [
    "resid_levels = True\n",
    "BINARY = False\n",
    "LOGIC_SHRINKAGE = False\n",
    "custom_rand_seed = 1"
   ]
  },
  {
   "cell_type": "code",
   "execution_count": null,
   "id": "70fb691a",
   "metadata": {
    "lines_to_next_cell": 0
   },
   "outputs": [],
   "source": [
    "autoencoder = Sequential()\n",
    "\n",
    "# Encoder\n",
    "autoencoder.add(binary_dense(levels=resid_levels, n_in=784, n_out=128, input_shape=(784,), BINARY=BINARY, LOGIC_SHRINKAGE=LOGIC_SHRINKAGE, custom_rand_seed=custom_rand_seed, name=\"binary_dense_encoder_1\"))\n",
    "autoencoder.add(Activation('relu'))\n",
    "\n",
    "autoencoder.add(binary_dense(levels=resid_levels, n_in=128, n_out=64, BINARY=BINARY, LOGIC_SHRINKAGE=LOGIC_SHRINKAGE, custom_rand_seed=custom_rand_seed, name=\"binary_dense_encoder_2\"))\n",
    "autoencoder.add(Activation('relu'))\n",
    "\n",
    "autoencoder.add(binary_dense(levels=resid_levels, n_in=64, n_out=9, BINARY=BINARY, LOGIC_SHRINKAGE=LOGIC_SHRINKAGE, custom_rand_seed=custom_rand_seed, name=\"binary_dense_encoder_3\"))\n",
    "autoencoder.add(Activation('relu'))\n",
    "\n",
    "# Decoder\n",
    "autoencoder.add(binary_dense(levels=resid_levels, n_in=9, n_out=64, BINARY=BINARY, LOGIC_SHRINKAGE=LOGIC_SHRINKAGE, custom_rand_seed=custom_rand_seed, name=\"binary_dense_decoder_1\"))\n",
    "autoencoder.add(Activation('relu'))\n",
    "\n",
    "autoencoder.add(binary_dense(levels=resid_levels, n_in=64, n_out=128, BINARY=BINARY, LOGIC_SHRINKAGE=LOGIC_SHRINKAGE, custom_rand_seed=custom_rand_seed, name=\"binary_dense_decoder_2\"))\n",
    "autoencoder.add(Activation('relu'))\n",
    "\n",
    "autoencoder.add(binary_dense(levels=resid_levels, n_in=128, n_out=784, BINARY=BINARY, LOGIC_SHRINKAGE=LOGIC_SHRINKAGE, custom_rand_seed=custom_rand_seed, name=\"binary_dense_decoder_3\"))\n",
    "autoencoder.add(Activation('sigmoid'))"
   ]
  },
  {
   "cell_type": "code",
   "execution_count": null,
   "id": "3fe039a4",
   "metadata": {
    "lines_to_next_cell": 2
   },
   "outputs": [],
   "source": []
  },
  {
   "cell_type": "code",
   "execution_count": null,
   "id": "7d007d82",
   "metadata": {
    "lines_to_next_cell": 2
   },
   "outputs": [],
   "source": [
    "autoencoder.summary()"
   ]
  },
  {
   "cell_type": "code",
   "execution_count": null,
   "id": "0198b284",
   "metadata": {
    "lines_to_next_cell": 2
   },
   "outputs": [],
   "source": [
    "autoencoder.compile(optimizer='adam', loss='binary_crossentropy')"
   ]
  },
  {
   "cell_type": "code",
   "execution_count": null,
   "id": "5255a0b3",
   "metadata": {},
   "outputs": [],
   "source": [
    "epochs=3\n",
    "\n",
    "for epoch in range(epochs):\n",
    "\n",
    "    history = autoencoder.fit(\n",
    "      x_train,\n",
    "      x_train,\n",
    "      epochs=1, \n",
    "      batch_size=32, validation_split=0.10\n",
    "        )   "
   ]
  },
  {
   "cell_type": "code",
   "execution_count": null,
   "id": "b6fb1092",
   "metadata": {
    "lines_to_next_cell": 2
   },
   "outputs": [],
   "source": [
    "plt.imshow(x_test[0].reshape(28,28), cmap=\"gray\")"
   ]
  },
  {
   "cell_type": "code",
   "execution_count": null,
   "id": "748c991f",
   "metadata": {},
   "outputs": [],
   "source": [
    "ae_out = autoencoder.predict([ x_test[0].reshape(1, 28* 28) ])\n",
    "img = ae_out[0]  # predict is done on a vector\n",
    "plt.imshow(ae_out[0].reshape(28,28), cmap=\"gray\")"
   ]
  },
  {
   "cell_type": "code",
   "execution_count": null,
   "id": "bc7881b3",
   "metadata": {},
   "outputs": [],
   "source": []
  }
 ],
 "metadata": {
  "jupytext": {
   "cell_metadata_filter": "-all",
   "main_language": "python",
   "notebook_metadata_filter": "-all",
   "text_representation": {
    "extension": ".py",
    "format_name": "light"
   }
  }
 },
 "nbformat": 4,
 "nbformat_minor": 5
}
